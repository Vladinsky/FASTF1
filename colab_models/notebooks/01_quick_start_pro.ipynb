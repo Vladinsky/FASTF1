{
 "cells": [
  {
   "cell_type": "markdown",
   "metadata": {
    "id": "title"
   },
   "source": [
    "# 🏎️ Formula 1 Tire Change Prediction - Quick Start (Colab Pro)\n",
    "\n",
    "**Sistema completo di predizione cambi gomme F1 con RNN multi-task**\n",
    "\n",
    "Questo notebook ti guida attraverso il setup completo e il training del modello ottimizzato per Google Colab Pro.\n",
    "\n",
    "## 📋 Pre-requisiti\n",
    "- Google Colab Pro (raccomandato)\n",
    "- Dati F1 caricati su Google Drive\n",
    "- GPU abilitata (Runtime > Change runtime type > GPU)\n",
    "\n",
    "---"
   ]
  },
  {
   "cell_type": "markdown",
   "metadata": {
    "id": "setup"
   },
   "source": [
    "## 🚀 Step 1: Setup Ambiente\n",
    "\n",
    "Iniziamo con il setup automatico dell'ambiente ottimizzato per Colab Pro."
   ]
  },
  {
   "cell_type": "code",
   "execution_count": null,
   "metadata": {
    "id": "setup_env"
   },
   "outputs": [],
   "source": [
    "# Clona repository (se necessario) o carica files\n",
    "# NOTA: Se stai usando questo notebook, presumiamo che i file siano già caricati\n",
    "\n",
    "import os\n",
    "import sys\n",
    "\n",
    "# Verifica che siamo nella directory corretta\n",
    "if not os.path.exists('colab_models'):\n",
    "    print(\"❌ Directory colab_models non trovata!\")\n",
    "    print(\"🔧 Assicurati di aver caricato tutti i file nella directory corretta\")\n",
    "    print(\"📁 Struttura attesa:\")\n",
    "    print(\"   /content/colab_models/\")\n",
    "    print(\"   ├── setup_colab_pro.py\")\n",
    "    print(\"   ├── configs/\")\n",
    "    print(\"   ├── models/\")\n",
    "    print(\"   └── ...\")\n",
    "else:\n",
    "    print(\"✅ Directory colab_models trovata!\")\n",
    "    \n",
    "# Cambia directory\n",
    "%cd /content/colab_models"
   ]
  },
  {
   "cell_type": "code",
   "execution_count": null,
   "metadata": {
    "id": "run_setup"
   },
   "outputs": [],
   "source": [
    "# Esegui setup automatico\n",
    "print(\"🚀 Avvio setup automatico per Colab Pro...\")\n",
    "%run setup_colab_pro.py"
   ]
  },
  {
   "cell_type": "markdown",
   "metadata": {
    "id": "data_section"
   },
   "source": [
    "## 📊 Step 2: Unificazione Dati\n",
    "\n",
    "I dati F1 sono attualmente distribuiti in multiple cartelle. Li unifichiamo in un dataset completo."
   ]
  },
  {
   "cell_type": "code",
   "execution_count": null,
   "metadata": {
    "id": "check_data"
   },
   "outputs": [],
   "source": [
    "# Verifica dati disponibili su Drive\n",
    "from google.colab import drive\n",
    "import os\n",
    "\n",
    "# Mount Drive se non già fatto\n",
    "if not os.path.exists('/content/drive'):\n",
    "    drive.mount('/content/drive')\n",
    "\n",
    "# Check directories\n",
    "domenico_path = \"/content/drive/MyDrive/domenicoDL\"\n",
    "vincenzo_path = \"/content/drive/MyDrive/Vincenzo/processed_races\"\n",
    "\n",
    "print(\"📁 Controllo dati disponibili:\")\n",
    "print(f\"DomenicoDL: {os.path.exists(domenico_path)} - {len(os.listdir(domenico_path)) if os.path.exists(domenico_path) else 0} files\")\n",
    "print(f\"Vincenzo: {os.path.exists(vincenzo_path)} - {len(os.listdir(vincenzo_path)) if os.path.exists(vincenzo_path) else 0} files\")\n",
    "\n",
    "if not os.path.exists(domenico_path) and not os.path.exists(vincenzo_path):\n",
    "    print(\"⚠️  Nessuna cartella dati trovata! Assicurati di aver caricato i dati su Drive.\")"
   ]
  },
  {
   "cell_type": "code",
   "execution_count": null,
   "metadata": {
    "id": "unify_data"
   },
   "outputs": [],
   "source": [
    "# Unifica tutti i dati in un dataset completo\n",
    "from data.data_unifier_complete import CompleteDataUnifier\n",
    "\n",
    "print(\"🔄 Avvio unificazione dati...\")\n",
    "print(\"⏱️  Questo processo può richiedere 10-15 minuti\")\n",
    "\n",
    "unifier = CompleteDataUnifier()\n",
    "dataset = unifier.unify_all_data()\n",
    "\n",
    "print(f\"✅ Unificazione completata!\")\n",
    "print(f\"📊 Dataset finale: {len(dataset):,} righe, {len(dataset.columns)} colonne\")"
   ]
  },
  {
   "cell_type": "code",
   "execution_count": null,
   "metadata": {
    "id": "explore_data"
   },
   "outputs": [],
   "source": [
    "# Esplorazione rapida del dataset unificato\n",
    "import pandas as pd\n",
    "import matplotlib.pyplot as plt\n",
    "import seaborn as sns\n",
    "\n",
    "print(\"🔍 Esplorazione dataset unificato:\")\n",
    "print(f\"Shape: {dataset.shape}\")\n",
    "print(f\"Anni: {sorted(dataset['Year'].unique()) if 'Year' in dataset.columns else 'N/A'}\")\n",
    "print(f\"Piloti: {dataset['Driver'].nunique() if 'Driver' in dataset.columns else 'N/A'}\")\n",
    "print(f\"GP: {dataset['EventName'].nunique() if 'EventName' in dataset.columns else 'N/A'}\")\n",
    "\n",
    "# Visualizzazione distribuzione anni\n",
    "if 'Year' in dataset.columns:\n",
    "    plt.figure(figsize=(10, 6))\n",
    "    dataset['Year'].value_counts().sort_index().plot(kind='bar')\n",
    "    plt.title('Distribuzione Dati per Anno')\n",
    "    plt.xlabel('Anno')\n",
    "    plt.ylabel('Numero di Record')\n",
    "    plt.xticks(rotation=45)\n",
    "    plt.show()"
   ]
  },
  {
   "cell_type": "markdown",
   "metadata": {
    "id": "training_section"
   },
   "source": [
    "## 🏋️ Step 3: Training del Modello\n",
    "\n",
    "Avviamo il training completo del modello LSTM multi-task ottimizzato per Colab Pro."
   ]
  },
  {
   "cell_type": "code",
   "execution_count": null,
   "metadata": {
    "id": "check_gpu"
   },
   "outputs": [],
   "source": [
    "# Verifica GPU e memoria\n",
    "import torch\n",
    "import psutil\n",
    "\n",
    "print(\"🔧 Controllo risorse sistema:\")\n",
    "\n",
    "# GPU\n",
    "if torch.cuda.is_available():\n",
    "    gpu_name = torch.cuda.get_device_name(0)\n",
    "    gpu_memory = torch.cuda.get_device_properties(0).total_memory / 1e9\n",
    "    print(f\"✅ GPU: {gpu_name} ({gpu_memory:.1f}GB)\")\n",
    "    \n",
    "    if \"T4\" in gpu_name or \"A100\" in gpu_name or \"V100\" in gpu_name:\n",
    "        print(\"🚀 GPU ottima per training!\")\n",
    "    else:\n",
    "        print(\"⚠️  GPU rilevata ma potrebbe essere lenta\")\nelse:\n",
    "    print(\"❌ GPU non disponibile! Abilita GPU in Runtime > Change runtime type\")\n",
    "\n",
    "# RAM\n",
    "memory = psutil.virtual_memory()\n",
    "total_gb = memory.total / 1e9\n",
    "available_gb = memory.available / 1e9\n",
    "\n",
    "print(f\"✅ RAM: {total_gb:.1f}GB totale, {available_gb:.1f}GB disponibile\")\n",
    "\n",
    "if total_gb > 20:\n",
    "    print(\"🚀 RAM eccellente per Colab Pro!\")\n",
    "elif total_gb > 12:\n",
    "    print(\"✅ RAM buona per training\")\n",
    "else:\n",
    "    print(\"⚠️  RAM limitata, considera Colab Pro\")"
   ]
  },
  {
   "cell_type": "code",
   "execution_count": null,
   "metadata": {
    "id": "setup_trainer"
   },
   "outputs": [],
   "source": [
    "# Setup trainer\n",
    "from training.train_from_scratch_pro import ProTrainer\n",
    "\n",
    "print(\"🏋️ Inizializzazione trainer...\")\n",
    "\n",
    "# Crea trainer con configurazione ottimizzata\n",
    "trainer = ProTrainer(\n",
    "    config_path=\"configs/model_config_pro.yaml\",\n",
    "    project_dir=\"/content/drive/MyDrive/F1_TireChange_Project\"\n",
    ")\n",
    "\n",
    "print(\"✅ Trainer inizializzato!\")\n",
    "print(f\"📱 Device: {trainer.device}\")\n",
    "print(f\"📁 Model dir: {trainer.model_dir}\")\n",
    "print(f\"📊 Results dir: {trainer.results_dir}\")"
   ]
  },
  {
   "cell_type": "code",
   "execution_count": null,
   "metadata": {
    "id": "start_training",
    "scrolled": true
   },
   "outputs": [],
   "source": [
    "# AVVIO TRAINING COMPLETO\n",
    "print(\"🚀 AVVIO TRAINING DA ZERO...\")\n",
    "print(\"⏱️  Tempo stimato: 4-6 ore su Colab Pro\")\n",
    "print(\"💾 Checkpoint automatici ogni 30 minuti\")\n",
    "print(\"🔄 Puoi interrompere e riprendere il training\")\n",
    "print(\"=\"*60)\n",
    "\n",
    "# Training con parametri ottimizzati\n",
    "results = trainer.train_complete(max_epochs=100)\n",
    "\n",
    "print(\"=\"*60)\n",
    "print(\"🎉 TRAINING COMPLETATO!\")\n",
    "print(f\"⏱️  Tempo totale: {results['total_training_time']/3600:.1f} ore\")\n",
    "print(f\"🎯 Best validation loss: {results['best_val_loss']:.4f}\")"
   ]
  },
  {
   "cell_type": "markdown",
   "metadata": {
    "id": "results_section"
   },
   "source": [
    "## 📊 Step 4: Analisi Risultati\n",
    "\n",
    "Analizziamo i risultati del training e le performance del modello."
   ]
  },
  {
   "cell_type": "code",
   "execution_count": null,
   "metadata": {
    "id": "plot_training"
   },
   "outputs": [],
   "source": [
    "# Visualizza curve di training\n",
    "import matplotlib.pyplot as plt\n",
    "import numpy as np\n",
    "\n",
    "history = results['training_history']\n",
    "\n",
    "fig, axes = plt.subplots(2, 2, figsize=(15, 10))\n",
    "\n",
    "# Loss curves\n",
    "axes[0,0].plot(history['epochs'], history['train_loss'], label='Train Loss', color='blue')\n",
    "axes[0,0].plot(history['epochs'], history['val_loss'], label='Val Loss', color='red')\n",
    "axes[0,0].set_title('Training & Validation Loss')\n",
    "axes[0,0].set_xlabel('Epoch')\n",
    "axes[0,0].set_ylabel('Loss')\n",
    "axes[0,0].legend()\n",
    "axes[0,0].grid(True)\n",
    "\n",
    "# Accuracy curves\n",
    "axes[0,1].plot(history['epochs'], history['train_acc'], label='Train Acc', color='blue')\n",
    "axes[0,1].plot(history['epochs'], history['val_acc'], label='Val Acc', color='red')\n",
    "axes[0,1].set_title('Training & Validation Accuracy')\n",
    "axes[0,1].set_xlabel('Epoch')\n",
    "axes[0,1].set_ylabel('Accuracy')\n",
    "axes[0,1].legend()\n",
    "axes[0,1].grid(True)\n",
    "\n",
    "# Learning rate\n",
    "axes[1,0].plot(history['epochs'], history['learning_rates'], color='green')\n",
    "axes[1,0].set_title('Learning Rate Schedule')\n",
    "axes[1,0].set_xlabel('Epoch')\n",
    "axes[1,0].set_ylabel('Learning Rate')\n",
    "axes[1,0].set_yscale('log')\n",
    "axes[1,0].grid(True)\n",
    "\n",
    "# Final metrics\n",
    "test_metrics = results['final_test_metrics']\n",
    "metrics_names = list(test_metrics.keys())\n",
    "metrics_values = list(test_metrics.values())\n",
    "\n",
    "axes[1,1].bar(metrics_names, metrics_values, color='skyblue')\n",
    "axes[1,1].set_title('Final Test Metrics')\n",
    "axes[1,1].set_ylabel('Score')\n",
    "axes[1,1].tick_params(axis='x', rotation=45)\n",
    "\n",
    "plt.tight_layout()\n",
    "plt.show()\n",
    "\n",
    "print(\"📊 Risultati Finali:\")\n",
    "for metric, value in test_metrics.items():\n",
    "    print(f\"  {metric}: {value:.4f}\")"
   ]
  },
  {
   "cell_type": "code",
   "execution_count": null,
   "metadata": {
    "id": "model_info"
   },
   "outputs": [],
   "source": [
    "# Informazioni modello finale\n",
    "model_info = trainer.model.get_model_info()\n",
    "\n",
    "print(\"🧠 Informazioni Modello:\")\n",
    "print(f\"  Parametri totali: {model_info['total_parameters']:,}\")\n",
    "print(f\"  Parametri LSTM: {model_info['lstm_parameters']:,}\")\n",
    "print(f\"  Parametri Shared Trunk: {model_info['shared_trunk_parameters']:,}\")\n",
    "print(f\"  Input shape: {model_info['input_shape']}\")\n",
    "print(f\"  Hidden size: {model_info['hidden_size']}\")\n",
    "print(f\"  Num layers: {model_info['num_layers']}\")\n",
    "\n",
    "# Calcola dimensione modello in MB\n",
    "model_size_mb = model_info['total_parameters'] * 4 / 1024 / 1024  # 4 bytes per parameter\n",
    "print(f\"  Dimensione modello: {model_size_mb:.1f} MB\")"
   ]
  },
  {
   "cell_type": "markdown",
   "metadata": {
    "id": "inference_section"
   },
   "source": [
    "## 🚀 Step 5: Test Inference (Opzionale)\n",
    "\n",
    "Testiamo il modello addestrato con alcune predizioni di esempio."
   ]
  },
  {
   "cell_type": "code",
   "execution_count": null,
   "metadata": {
    "id": "test_inference"
   },
   "outputs": [],
   "source": [
    "# Test rapido inference\n",
    "import torch\n",
    "import numpy as np\n",
    "\n",
    "# Carica best model\n",
    "best_model_path = \"/content/drive/MyDrive/F1_TireChange_Project/models/checkpoints/best_model.pth\"\n",
    "\n",
    "if os.path.exists(best_model_path):\n",
    "    print(\"🔄 Caricamento best model...\")\n",
    "    \n",
    "    checkpoint = torch.load(best_model_path)\n",
    "    trainer.model.load_state_dict(checkpoint['model_state_dict'])\n",
    "    trainer.model.eval()\n",
    "    \n",
    "    print(\"✅ Modello caricato!\")\n",
    "    \n",
    "    # Test con dati dummy\n",
    "    print(\"🧪 Test inference con dati di esempio...\")\n",
    "    \n",
    "    # Simula sequenza di 10 timesteps con 52 features\n",
    "    dummy_input = torch.randn(1, 10, 52).to(trainer.device)\n",
    "    \n",
    "    with torch.no_grad():\n",
    "        outputs = trainer.model(dummy_input)\n",
    "        \n",
    "        # Predizioni\n",
    "        tire_change_prob = torch.sigmoid(outputs['tire_change_logits']).cpu().item()\n",
    "        tire_type_probs = torch.softmax(outputs['tire_type_logits'], dim=-1).cpu().numpy()[0]\n",
    "    \n",
    "    print(f\"🎯 Predizione cambio gomme: {tire_change_prob:.3f} ({tire_change_prob*100:.1f}%)\")\n",
    "    print(f\"🏎️ Probabilità tipi gomme:\")\n",
    "    \n",
    "    # Compound types (assumendo ordine standard)\n",
    "    compounds = ['SOFT', 'MEDIUM', 'HARD', 'INTER', 'WET', 'HYPER', 'ULTRA', 'SUPER', 'SUPERHARD']\n",
    "    for i, (compound, prob) in enumerate(zip(compounds, tire_type_probs)):\n",
    "        print(f\"    {compound}: {prob:.3f} ({prob*100:.1f}%)\")\n",
    "    \n",
    "    print(\"\\n✅ Test inference completato!\")\n",
    "    print(\"🎉 Il modello è pronto per essere usato!\")\n",
    "    \nelse:\n",
    "    print(\"❌ Best model non trovato. Assicurati che il training sia completato.\")"
   ]
  },
  {
   "cell_type": "markdown",
   "metadata": {
    "id": "next_steps"
   },
   "source": [
    "## 🎯 Next Steps\n",
    "\n",
    "Congratulazioni! Hai completato con successo il training del modello di predizione cambi gomme F1.\n",
    "\n",
    "### 📁 Files Salvati\n",
    "- **Best Model**: `/content/drive/MyDrive/F1_TireChange_Project/models/checkpoints/best_model.pth`\n",
    "- **Training Logs**: `/content/drive/MyDrive/F1_TireChange_Project/results/training_logs/`\n",
    "- **Dataset Unificato**: `/content/drive/MyDrive/F1_TireChange_Project/data/unified/f1_complete_dataset.parquet`\n",
    "\n",
    "### 🚀 Prossimi Step\n",
    "1. **Valutazione Avanzata**: Esegui `02_data_exploration.ipynb` per analisi approfondite\n",
    "2. **Ottimizzazione**: Usa `05_hyperparameter_opt.ipynb` per tuning parametri\n",
    "3. **Demo Real-time**: Prova `06_real_time_demo.ipynb` per inference live\n",
    "4. **Production**: Setup API con gli script nella cartella `inference/`\n",
    "\n",
    "### 📞 Support\n",
    "- Consulta il `README.md` per guide dettagliate\n",
    "- Check troubleshooting section per problemi comuni\n",
    "- Monitora memoria e GPU durante l'uso\n",
    "\n",
    "**Happy Racing! 🏁**"
   ]
  }
 ],
 "metadata": {
  "accelerator": "GPU",
  "colab": {
   "gpuType": "T4",
   "provenance": []
  },
  "kernelspec": {
   "display_name": "Python 3",
   "name": "python3"
  },
  "language_info": {
   "name": "python"
  }
 },
 "nbformat": 4,
 "nbformat_minor": 0
}
