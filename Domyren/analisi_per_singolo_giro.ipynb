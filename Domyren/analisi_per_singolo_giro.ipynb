{
 "cells": [
  {
   "cell_type": "code",
   "execution_count": 2,
   "metadata": {},
   "outputs": [],
   "source": [
    "import fastf1 as ff1"
   ]
  },
  {
   "cell_type": "code",
   "execution_count": 14,
   "metadata": {},
   "outputs": [
    {
     "name": "stderr",
     "output_type": "stream",
     "text": [
      "core           INFO \tLoading data for Italian Grand Prix - Race [v3.5.0]\n",
      "req            INFO \tUsing cached data for session_info\n",
      "req            INFO \tUsing cached data for driver_info\n",
      "req            INFO \tUsing cached data for session_status_data\n",
      "req            INFO \tUsing cached data for lap_count\n",
      "req            INFO \tUsing cached data for track_status_data\n",
      "req            INFO \tUsing cached data for _extended_timing_data\n",
      "req            INFO \tUsing cached data for timing_app_data\n",
      "core           INFO \tProcessing timing data...\n",
      "req            INFO \tUsing cached data for car_data\n",
      "req            INFO \tUsing cached data for position_data\n",
      "req            INFO \tUsing cached data for weather_data\n",
      "req            INFO \tUsing cached data for race_control_messages\n",
      "core           INFO \tFinished loading data for 20 drivers: ['1', '11', '55', '16', '63', '44', '23', '4', '14', '77', '40', '81', '2', '24', '10', '18', '27', '20', '31', '22']\n",
      "c:\\Users\\domen\\OneDrive\\Desktop\\Develhope\\Projects\\Github\\F1 Team Project\\FASTF1\\.venv\\Lib\\site-packages\\fastf1\\core.py:3035: FutureWarning: pick_driver is deprecated and will be removed in a future release. Use pick_drivers instead.\n",
      "  warnings.warn((\"pick_driver is deprecated and will be removed\"\n"
     ]
    },
    {
     "name": "stdout",
     "output_type": "stream",
     "text": [
      "I risultati sono stati salvati in C:\\Users\\domen\\OneDrive\\Desktop\\Fast F1\\driver_analysis.csv\n"
     ]
    }
   ],
   "source": [
    "import fastf1 as ff1\n",
    "import pandas as pd\n",
    "\n",
    "# Set session details\n",
    "driver = 'LEC'  # Codice del pilota (es. 'LEC' per Charles Leclerc)\n",
    "gp = 'Monza'\n",
    "year = 2023\n",
    "session = 'R'\n",
    "ff1.Cache.enable_cache(r\"C:\\Users\\domen\\OneDrive\\Desktop\\Fast F1\")  # Enable cache\n",
    "\n",
    "# Load the session data\n",
    "session_data = ff1.get_session(year, gp, session)\n",
    "session_data.load()  # Load the session data\n",
    "\n",
    "# Ottieni tutti i giri della sessione\n",
    "laps = session_data.laps\n",
    "\n",
    "# Ottieni tutti i giri del pilota selezionato\n",
    "driver_laps = laps.pick_driver(driver)\n",
    "\n",
    "# Lista per salvare i dati\n",
    "results = []\n",
    "\n",
    "# Analizza i dati per ogni giro\n",
    "for index, lap in driver_laps.iterlaps():\n",
    "    lap_number = lap['LapNumber']\n",
    "    sector1_time = lap['Sector1Time']\n",
    "    sector2_time = lap['Sector2Time']\n",
    "    sector3_time = lap['Sector3Time']\n",
    "    position = lap['Position']  # Posizione del pilota durante il giro\n",
    "\n",
    "    # Trova il pilota precedente e successivo in base alla posizione in pista\n",
    "    same_lap_laps = laps[laps['LapNumber'] == lap_number]  # Filtra i giri dello stesso giro\n",
    "    sorted_positions = same_lap_laps.sort_values(by='Position')  # Ordina per posizione\n",
    "\n",
    "    # Trova il pilota precedente\n",
    "    previous_driver = (\n",
    "        sorted_positions[sorted_positions['Position'] < position].iloc[-1]['Driver']\n",
    "        if not sorted_positions[sorted_positions['Position'] < position].empty\n",
    "        else \"N/A\"\n",
    "    )\n",
    "\n",
    "    # Trova il pilota successivo\n",
    "    next_driver = (\n",
    "        sorted_positions[sorted_positions['Position'] > position].iloc[0]['Driver']\n",
    "        if not sorted_positions[sorted_positions['Position'] > position].empty\n",
    "        else \"N/A\"\n",
    "    )\n",
    "\n",
    "    # Aggiungi i dati alla lista\n",
    "    results.append({\n",
    "        'LapNumber': lap_number,\n",
    "        'Sector1Time': sector1_time,\n",
    "        'Sector2Time': sector2_time,\n",
    "        'Sector3Time': sector3_time,\n",
    "        'PreviousDriver': previous_driver,\n",
    "        'NextDriver': next_driver\n",
    "    })\n",
    "\n",
    "# Crea un DataFrame da salvare in CSV\n",
    "df = pd.DataFrame(results)\n",
    "\n",
    "# Salva il DataFrame in un file CSV\n",
    "output_file = r\"C:\\Users\\domen\\OneDrive\\Desktop\\Fast F1\\driver_analysis.csv\"\n",
    "df.to_csv(output_file, index=False)\n",
    "\n",
    "print(f\"I risultati sono stati salvati in {output_file}\")"
   ]
  }
 ],
 "metadata": {
  "kernelspec": {
   "display_name": ".venv",
   "language": "python",
   "name": "python3"
  },
  "language_info": {
   "codemirror_mode": {
    "name": "ipython",
    "version": 3
   },
   "file_extension": ".py",
   "mimetype": "text/x-python",
   "name": "python",
   "nbconvert_exporter": "python",
   "pygments_lexer": "ipython3",
   "version": "3.13.1"
  }
 },
 "nbformat": 4,
 "nbformat_minor": 2
}
